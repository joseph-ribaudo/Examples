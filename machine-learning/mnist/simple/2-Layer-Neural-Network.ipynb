{
 "cells": [
  {
   "cell_type": "markdown",
   "metadata": {},
   "source": [
    "<h1>Phoenix AI & Machine Learning Group</h1>\n",
    "<h2>Let's get Neural: Solving the MNIST Dataset (Python) Part 1/3</h2>"
   ]
  },
  {
   "cell_type": "markdown",
   "metadata": {},
   "source": [
    "<h4>Community Support</h4>\n",
    "\n",
    "As always, a generous shoutout to the community, without these contributions, my understanding of Neural Networks would have taken much longer! <br>\n",
    "\n",
    "Most code directly copied from @Trask: http://iamtrask.github.io/2015/07/12/basic-python-network/\n",
    "\n",
    "<i>Other Works Cited: </i>\n",
    "- http://cs231n.github.io/neural-networks-1/\n",
    "- http://www.cse.unsw.edu.au/~billw/mldict.html\n",
    "- https://en.wikipedia.org/wiki/Backpropagation\n",
    "- https://www.quora.com/What-is-the-role-of-the-activation-function-in-a-neural-network\n",
    "- http://www.wildml.com/2015/09/implementing-a-neural-network-from-scratch/\n",
    "- http://squall0032.tumblr.com/post/77300791096/plotting-a-sigmoid-function-using\n",
    "- http://stevenmiller888.github.io/mind-how-to-build-a-neural-network/\n",
    "- http://docs.scipy.org/doc/numpy/reference/generated/numpy.dot.html"
   ]
  },
  {
   "cell_type": "markdown",
   "metadata": {},
   "source": [
    "<h2>2 Layer Neural Network</h2>"
   ]
  },
  {
   "cell_type": "code",
   "execution_count": 15,
   "metadata": {
    "collapsed": true
   },
   "outputs": [],
   "source": [
    "# Import the NumPy (Numerical) Module\n",
    "import numpy as np\n",
    "import matplotlib.pyplot as plt"
   ]
  },
  {
   "cell_type": "code",
   "execution_count": 18,
   "metadata": {
    "collapsed": true
   },
   "outputs": [],
   "source": [
    "# Define our Sigmoid 'Activation Function'\n",
    "def sigmoid(x,deriv=False):\n",
    "    if(deriv==True):\n",
    "        return x*(1-x)\n",
    "    return 1/(1+np.exp(-x))"
   ]
  },
  {
   "cell_type": "code",
   "execution_count": 29,
   "metadata": {
    "collapsed": false,
    "scrolled": true
   },
   "outputs": [
    {
     "data": {
      "image/png": "iVBORw0KGgoAAAANSUhEUgAAAXcAAAEACAYAAABI5zaHAAAABHNCSVQICAgIfAhkiAAAAAlwSFlz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\nEUkhhbuISAop3EVEUuj/AZCi9IIQkPG0AAAAAElFTkSuQmCC\n",
      "text/plain": [
       "<matplotlib.figure.Figure at 0x10cbdd750>"
      ]
     },
     "metadata": {},
     "output_type": "display_data"
    }
   ],
   "source": [
    "# Our Function's Curve\n",
    "# Looks like a handy function to calculate a gradient! \n",
    x = np.arange(-10,11,0.1)
    "sig = [sigmoid(i,deriv=False) for i in x]\n",
    "plt.plot(x,sig)\n",
    "plt.show()"
   ]
  },
  {
   "cell_type": "code",
   "execution_count": 30,
   "metadata": {
    "collapsed": false,
    "scrolled": true
   },
   "outputs": [
    {
     "data": {
      "image/png": "iVBORw0KGgoAAAANSUhEUgAAAYMAAAEACAYAAABRQBpkAAAABHNCSVQICAgIfAhkiAAAAAlwSFlz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\n",
      "text/plain": [
       "<matplotlib.figure.Figure at 0x10caeccd0>"
      ]
     },
     "metadata": {},
     "output_type": "display_data"
    }
   ],
   "source": [
    "# Calculate our Sigmoidal Gradient (Derivative)\n",
    "sig = [sigmoid(i,deriv=True) for i in sig]\n",
    "plt.plot(x,sig)\n",
    "plt.show()"
   ]
  },
  {
   "cell_type": "markdown",
   "metadata": {},
   "source": [
    "<h3>Creating the Input Neurons - 'X'</h3>"
   ]
  },
  {
   "cell_type": "code",
   "execution_count": 38,
   "metadata": {
    "collapsed": true
   },
   "outputs": [],
   "source": [
    "# Instantiate our Input Layer Neurons\n",
    "# Four Rows (Dimensions) of Three Neurons\n",
    "# E.x.: 0,0,1 = 3 Neurons\n",
    "X = np.array([  [0,0,1],\n",
    "                [0,1,1],\n",
    "                [1,0,1],\n",
    "                [1,1,1] ])"
   ]
  },
  {
   "cell_type": "markdown",
   "metadata": {},
   "source": [
    "<h3>Creating the Training Example - 'y'</h3>"
   ]
  },
  {
   "cell_type": "code",
   "execution_count": 40,
   "metadata": {
    "collapsed": false
   },
   "outputs": [
    {
     "name": "stdout",
     "output_type": "stream",
     "text": [
      "[[0]\n",
      " [0]\n",
      " [1]\n",
      " [1]]\n"
     ]
    }
   ],
   "source": [
    "# Each >row< is a training example - 'exepected output'\n",
    "y = np.array([[0,0,1,1]]).T\n",
    "print y"
   ]
  },
  {
   "cell_type": "markdown",
   "metadata": {},
   "source": [
    "<h3>Creating the Synapse - syn0</h3>"
   ]
  },
  {
   "cell_type": "code",
   "execution_count": 80,
   "metadata": {
    "collapsed": true
   },
   "outputs": [],
   "source": [
    "# Seed our pseudo-random number generator\n",
    "# If we need to debug the network, we can use this as a reference point\n",
    "# Your numbers will still be randomly distributed, but they'll be randomly\n",
    "# distributed in exactly the same way each time you train.\n",
    "# This makes it easier to see how your changes affect the network.\n",
    "np.random.seed(1)"
   ]
  },
  {
   "cell_type": "code",
   "execution_count": 39,
   "metadata": {
    "collapsed": false
   },
   "outputs": [
    {
     "name": "stdout",
     "output_type": "stream",
     "text": [
      "[[-0.62747958]\n",
      " [-0.30887855]\n",
      " [-0.20646505]]\n"
     ]
    }
   ],
   "source": [
    "# Random weights to ensure our network is actually learning (connected synapses)\n",
    "# Match these to each dimension / row / list above in 'X'\n",
    "# Note: It's best practice here to have a weight initialization mean of zero\n",
    "syn0 = 2*np.random.random((3,1)) - 1\n",
    "print syn0"
   ]
  },
  {
   "cell_type": "markdown",
   "metadata": {},
   "source": [
    "<h3>Forward Propagation - Start the Network!</h3>"
   ]
  },
  {
   "cell_type": "markdown",
   "metadata": {},
   "source": [
    "<img src = 'https://iamtrask.github.io/img/toy_network_batch.png' width=\"700\" height=\"400\">"
   ]
  },
  {
   "cell_type": "code",
   "execution_count": 42,
   "metadata": {
    "collapsed": false
   },
   "outputs": [
    {
     "name": "stdout",
     "output_type": "stream",
     "text": [
      "[[0 0 1]\n",
      " [0 1 1]\n",
      " [1 0 1]\n",
      " [1 1 1]]\n"
     ]
    }
   ],
   "source": [
    "# Our 1st Layer of the Network\n",
    "# Note: We are feeding >ALL< our input rows [layers]\n",
    "#       into the network at once: Full Batch Training\n",
    "l0 = X\n",
    "print l0"
   ]
  },
  {
   "cell_type": "markdown",
   "metadata": {},
   "source": [
    "<h3> Matrix Dot Multiplication </h3>\n",
    "<img src = 'https://www.mathsisfun.com/algebra/images/matrix-multiply-a.gif'>"
   ]
  },
  {
   "cell_type": "code",
   "execution_count": 62,
   "metadata": {
    "collapsed": false
   },
   "outputs": [
    {
     "name": "stdout",
     "output_type": "stream",
     "text": [
      "[[ 0.44856632]\n",
      " [ 0.3739417 ]\n",
      " [ 0.30281165]\n",
      " [ 0.2418024 ]]\n"
     ]
    }
   ],
   "source": [
    "# The hidden layer of the network!\n",
    "# Multiply our 'l0' 4D array by our randomly initialized weights\n",
    "# (4 x 3) dot (3 x 1) = (4 x 1) - See image above\n",
    "l1 = sigmoid(np.dot(l0,syn0))\n",
    "\n",
    "# And we could end the network here, just print the results!\n",
    "# Printing the results is equivalent to generating our 'output' layer\n",
    "print l1"
   ]
  },
  {
   "cell_type": "code",
   "execution_count": 50,
   "metadata": {
    "collapsed": true
   },
   "outputs": [],
   "source": [
    "# Hmm, seems pretty terrible.\n",
    "# Let's see if we can train our network to do better!"
   ]
  },
  {
   "cell_type": "markdown",
   "metadata": {},
   "source": [
    "<h3>Backwards Propagation of Errors: Backprop</h3>"
   ]
  },
  {
   "cell_type": "code",
   "execution_count": 53,
   "metadata": {
    "collapsed": false
   },
   "outputs": [
    {
     "name": "stdout",
     "output_type": "stream",
     "text": [
      "[[-0.44856632]\n",
      " [-0.3739417 ]\n",
      " [ 0.69718835]\n",
      " [ 0.7581976 ]]\n"
     ]
    }
   ],
   "source": [
    "# Calculate how much error we have against our training set\n",
    "# I.e.: How much did we miss our target by?\n",
    "l1_error = y - l1\n",
    "print l1_error"
   ]
  },
  {
   "cell_type": "markdown",
   "metadata": {},
   "source": [
    "<h3>Tracking our Sigmoidal Derivatives</h3>\n",
    "<img src = 'https://iamtrask.github.io/img/sigmoid-deriv-2.png' width=\"700\" height=\"400\">\n",
    "<br>\n",
    "<b>\n",
    "- High values, x=2.0 (green dot) = shallow slope\n",
    "- Low values, x=-1.0 (purple dot) = shallow slope\n",
    "- Highest slope is x=0 (blue dot)\n",
    "- Also notice that all derivatives are between 0 and 1\n",
    "</b>"
   ]
  },
  {
   "cell_type": "code",
   "execution_count": 83,
   "metadata": {
    "collapsed": false
   },
   "outputs": [
    {
     "name": "stdout",
     "output_type": "stream",
     "text": [
      "[[ -9.25705804e-05]\n",
      " [ -6.13383729e-05]\n",
      " [  4.08043484e-05]\n",
      " [  6.16432895e-05]]\n"
     ]
    }
   ],
   "source": [
    "# But how do we 'train' the neurons? We have to impact their weights (synapses).\n",
    "# Let's do it like this: Since we now know the amount of 'miss' we have - \n",
    "# (how much we missed by) * (gradient [derivative] of the values in 'l1')\n",
    "# Note: \"The Error Weighted Derivative\" is an OK method for this example,\n",
    "#        but there are certainly more mathematically precise ways to do this.\n",
    "#\n",
    "# To say it another way:\n",
    "#        When we multiply the \"slopes\" by the error, we are >reducing< our network's error!\n",
    "l1_delta = l1_error * sigmoid(l1,True)\n",
    "print l1_delta"
   ]
  },
  {
   "cell_type": "code",
   "execution_count": 66,
   "metadata": {
    "collapsed": false
   },
   "outputs": [
    {
     "name": "stdout",
     "output_type": "stream",
     "text": [
      "[[ 0.51728658]\n",
      " [-0.10303788]\n",
      " [ 0.14430846]]\n"
     ]
    }
   ],
   "source": [
    "# Awesome! Now, let's use this to update our synapse's appropriately\n",
    "syn0 += np.dot(l0.T,l1_delta)\n",
    "# Here is our new synapse strengths:\n",
    "print syn0"
   ]
  },
  {
   "cell_type": "markdown",
   "metadata": {},
   "source": [
    "<h3>Our First ANN Results!</h3>"
   ]
  },
  {
   "cell_type": "code",
   "execution_count": 69,
   "metadata": {
    "collapsed": false
   },
   "outputs": [
    {
     "name": "stdout",
     "output_type": "stream",
     "text": [
      "Input Layer\n",
      "[[0 0 1]\n",
      " [0 1 1]\n",
      " [1 0 1]\n",
      " [1 1 1]]\n",
      "\n",
      "Training Set\n",
      "[[0]\n",
      " [0]\n",
      " [1]\n",
      " [1]]\n",
      "\n",
      "Our Final Output After ANN Training: Epoch 0\n",
      "[[ 0.44856632]\n",
      " [ 0.3739417 ]\n",
      " [ 0.30281165]\n",
      " [ 0.2418024 ]]\n"
     ]
    }
   ],
   "source": [
    "print ('Input Layer')\n",
    "print X\n",
    "print\n",
    "print ('Training Set')\n",
    "print y\n",
    "print\n",
    "print \"Our Final Output After ANN Training: Epoch 0\"\n",
    "print l1"
   ]
  },
  {
   "cell_type": "markdown",
   "metadata": {},
   "source": [
    "<h3>Mapping our ANN: Epoch0</h3>\n",
    "<img src = 'https://iamtrask.github.io/img/toy_network_deriv.png' width=\"700\" height=\"400\">"
   ]
  },
  {
   "cell_type": "markdown",
   "metadata": {},
   "source": [
    "<h3>Improving Our Network's Accuracy</h3>"
   ]
  },
  {
   "cell_type": "code",
   "execution_count": 72,
   "metadata": {
    "collapsed": true
   },
   "outputs": [],
   "source": [
    "# Okay, this is admittedly not the greatest.\n",
    "# Let's crank up the number of epochs\n",
    "# Remember: Everytime we update the synapse strengths, our network gets smarter!"
   ]
  },
  {
   "cell_type": "code",
   "execution_count": 73,
   "metadata": {
    "collapsed": false
   },
   "outputs": [
    {
     "name": "stdout",
     "output_type": "stream",
     "text": [
      "Output After Training:\n",
      "[[ 0.00966821]\n",
      " [ 0.00786286]\n",
      " [ 0.99359161]\n",
      " [ 0.99211755]]\n"
     ]
    }
   ],
   "source": [
    "# Updates the weights over 10,000 epochs:\n",
    "\n",
    "for iter in xrange(10000):\n",
    "    l0 = X\n",
    "    l1 = nonlin(np.dot(l0,syn0))\n",
    "    l1_error = y - l1\n",
    "    l1_delta = l1_error * nonlin(l1,True)\n",
    "    # Update weights for each epoch\n",
    "    syn0 += np.dot(l0.T,l1_delta)\n",
    "\n",
    "print \"Output After Training:\"\n",
    "print l1"
   ]
  },
  {
   "cell_type": "markdown",
   "metadata": {},
   "source": [
    "<h3>Success!</h3>"
   ]
  },
  {
   "cell_type": "code",
   "execution_count": 85,
   "metadata": {
    "collapsed": false
   },
   "outputs": [
    {
     "name": "stdout",
     "output_type": "stream",
     "text": [
      "Input Layer\n",
      "[[0 0 1]\n",
      " [0 1 1]\n",
      " [1 0 1]\n",
      " [1 1 1]]\n",
      "\n",
      "Training Set\n",
      "[[0]\n",
      " [0]\n",
      " [1]\n",
      " [1]]\n",
      "\n",
      "Output Layer: Epoch 10,001\n",
      "[[ 0.00966821]\n",
      " [ 0.00786286]\n",
      " [ 0.99359161]\n",
      " [ 0.99211755]]\n"
     ]
    }
   ],
   "source": [
    "print ('Input Layer')\n",
    "print X\n",
    "print\n",
    "print ('Training Set')\n",
    "print y\n",
    "print\n",
    "print \"Output Layer: Epoch 10,001\"\n",
    "print l1"
   ]
  },
  {
   "cell_type": "code",
   "execution_count": null,
   "metadata": {
    "collapsed": true
   },
   "outputs": [],
   "source": []
  }
 ],
 "metadata": {
  "kernelspec": {
   "display_name": "Python 2",
   "language": "python",
   "name": "python2"
  },
  "language_info": {
   "codemirror_mode": {
    "name": "ipython",
    "version": 2
   },
   "file_extension": ".py",
   "mimetype": "text/x-python",
   "name": "python",
   "nbconvert_exporter": "python",
   "pygments_lexer": "ipython2",
   "version": "2.7.10"
  }
 },
 "nbformat": 4,
 "nbformat_minor": 1
}
